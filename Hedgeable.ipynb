{
 "cells": [
  {
   "cell_type": "code",
   "execution_count": 2,
   "metadata": {
    "collapsed": false
   },
   "outputs": [],
   "source": [
    "import pandas as pd\n",
    "import numpy as np\n",
    "import seaborn as sns\n",
    "import matplotlib.pyplot as plt\n",
    "%matplotlib inline"
   ]
  },
  {
   "cell_type": "markdown",
   "metadata": {},
   "source": [
    "# The problem the data"
   ]
  },
  {
   "cell_type": "markdown",
   "metadata": {},
   "source": [
    "We are given the following data\n",
    "\n",
    "- Top 25 Reddit news title for each day along with DJIAI\n",
    "- Train data: Reddit news titles from 2008-08-08 to 2015-06-30 and DJIAI from 2008-08-08 to 2015-07-01. Note that there is one day difference between Reddit news titles and DJIAI\n",
    "- Test data: Reddit news titles from 2015-07-01 to 2016-06-30\n",
    "- The task is to predict weather DJIAI goes up or down next day(binary classification) from 2015-07-01 to 2016-06-30 with neural network."
   ]
  },
  {
   "cell_type": "code",
   "execution_count": 3,
   "metadata": {
    "collapsed": false
   },
   "outputs": [],
   "source": [
    "train = pd.read_csv('dataset/train.csv')\n",
    "train['timestamp'] = pd.to_datetime(train['timestamp'])\n",
    "test = pd.read_csv('dataset/test.csv')\n",
    "test['timestamp'] = pd.to_datetime(test['timestamp'])"
   ]
  },
  {
   "cell_type": "code",
   "execution_count": 4,
   "metadata": {
    "collapsed": false
   },
   "outputs": [
    {
     "data": {
      "text/html": [
       "<div>\n",
       "<style>\n",
       "    .dataframe thead tr:only-child th {\n",
       "        text-align: right;\n",
       "    }\n",
       "\n",
       "    .dataframe thead th {\n",
       "        text-align: left;\n",
       "    }\n",
       "\n",
       "    .dataframe tbody tr th {\n",
       "        vertical-align: top;\n",
       "    }\n",
       "</style>\n",
       "<table border=\"1\" class=\"dataframe\">\n",
       "  <thead>\n",
       "    <tr style=\"text-align: right;\">\n",
       "      <th></th>\n",
       "      <th>timestamp</th>\n",
       "      <th>News</th>\n",
       "      <th>Price</th>\n",
       "    </tr>\n",
       "  </thead>\n",
       "  <tbody>\n",
       "    <tr>\n",
       "      <th>0</th>\n",
       "      <td>2015-07-01</td>\n",
       "      <td>NaN</td>\n",
       "      <td>17757.910156</td>\n",
       "    </tr>\n",
       "    <tr>\n",
       "      <th>1</th>\n",
       "      <td>2015-06-30</td>\n",
       "      <td>['US now has more Spanish speakers than Spain ...</td>\n",
       "      <td>17619.509766</td>\n",
       "    </tr>\n",
       "    <tr>\n",
       "      <th>2</th>\n",
       "      <td>2015-06-29</td>\n",
       "      <td>[\"'Blind agreement' and closed-door deals: Rep...</td>\n",
       "      <td>17596.349609</td>\n",
       "    </tr>\n",
       "    <tr>\n",
       "      <th>3</th>\n",
       "      <td>2015-06-26</td>\n",
       "      <td>['Man beheaded and Islamist flag raised in Gre...</td>\n",
       "      <td>17946.679688</td>\n",
       "    </tr>\n",
       "    <tr>\n",
       "      <th>4</th>\n",
       "      <td>2015-06-25</td>\n",
       "      <td>['South Korea says it will send aid to North K...</td>\n",
       "      <td>17890.359375</td>\n",
       "    </tr>\n",
       "  </tbody>\n",
       "</table>\n",
       "</div>"
      ],
      "text/plain": [
       "   timestamp                                               News         Price\n",
       "0 2015-07-01                                                NaN  17757.910156\n",
       "1 2015-06-30  ['US now has more Spanish speakers than Spain ...  17619.509766\n",
       "2 2015-06-29  [\"'Blind agreement' and closed-door deals: Rep...  17596.349609\n",
       "3 2015-06-26  ['Man beheaded and Islamist flag raised in Gre...  17946.679688\n",
       "4 2015-06-25  ['South Korea says it will send aid to North K...  17890.359375"
      ]
     },
     "execution_count": 4,
     "metadata": {},
     "output_type": "execute_result"
    }
   ],
   "source": [
    "train.head()"
   ]
  },
  {
   "cell_type": "code",
   "execution_count": 5,
   "metadata": {
    "collapsed": false
   },
   "outputs": [
    {
     "data": {
      "text/html": [
       "<div>\n",
       "<style>\n",
       "    .dataframe thead tr:only-child th {\n",
       "        text-align: right;\n",
       "    }\n",
       "\n",
       "    .dataframe thead th {\n",
       "        text-align: left;\n",
       "    }\n",
       "\n",
       "    .dataframe tbody tr th {\n",
       "        vertical-align: top;\n",
       "    }\n",
       "</style>\n",
       "<table border=\"1\" class=\"dataframe\">\n",
       "  <thead>\n",
       "    <tr style=\"text-align: right;\">\n",
       "      <th></th>\n",
       "      <th>timestamp</th>\n",
       "      <th>News</th>\n",
       "    </tr>\n",
       "  </thead>\n",
       "  <tbody>\n",
       "    <tr>\n",
       "      <th>0</th>\n",
       "      <td>2016-06-30</td>\n",
       "      <td>['Jamaica proposes marijuana dispensers for to...</td>\n",
       "    </tr>\n",
       "    <tr>\n",
       "      <th>1</th>\n",
       "      <td>2016-06-29</td>\n",
       "      <td>['Explosion At Airport In Istanbul', 'Yemeni f...</td>\n",
       "    </tr>\n",
       "    <tr>\n",
       "      <th>2</th>\n",
       "      <td>2016-06-28</td>\n",
       "      <td>['2,500 Scientists To Australia: If You Want T...</td>\n",
       "    </tr>\n",
       "    <tr>\n",
       "      <th>3</th>\n",
       "      <td>2016-06-27</td>\n",
       "      <td>['Barclays and RBS shares suspended from tradi...</td>\n",
       "    </tr>\n",
       "    <tr>\n",
       "      <th>4</th>\n",
       "      <td>2016-06-24</td>\n",
       "      <td>['David Cameron to Resign as PM After EU Refer...</td>\n",
       "    </tr>\n",
       "  </tbody>\n",
       "</table>\n",
       "</div>"
      ],
      "text/plain": [
       "   timestamp                                               News\n",
       "0 2016-06-30  ['Jamaica proposes marijuana dispensers for to...\n",
       "1 2016-06-29  ['Explosion At Airport In Istanbul', 'Yemeni f...\n",
       "2 2016-06-28  ['2,500 Scientists To Australia: If You Want T...\n",
       "3 2016-06-27  ['Barclays and RBS shares suspended from tradi...\n",
       "4 2016-06-24  ['David Cameron to Resign as PM After EU Refer..."
      ]
     },
     "execution_count": 5,
     "metadata": {},
     "output_type": "execute_result"
    }
   ],
   "source": [
    "test.head()"
   ]
  },
  {
   "cell_type": "markdown",
   "metadata": {},
   "source": [
    "- We can see that while the train has the price data the testing does not. Hence we will give predictions but will not be able to validate our model. when testing perhaps we break train into train and CV.\n",
    "- We also can see that there is one missing News article let's just confirm that that is the only missing value"
   ]
  },
  {
   "cell_type": "code",
   "execution_count": 6,
   "metadata": {
    "collapsed": false
   },
   "outputs": [
    {
     "data": {
      "text/plain": [
       "News         1\n",
       "Price        0\n",
       "timestamp    0\n",
       "dtype: int64"
      ]
     },
     "execution_count": 6,
     "metadata": {},
     "output_type": "execute_result"
    }
   ],
   "source": [
    "train.isnull().sum().sort_values(ascending=False)"
   ]
  },
  {
   "cell_type": "code",
   "execution_count": 7,
   "metadata": {
    "collapsed": false
   },
   "outputs": [
    {
     "data": {
      "text/plain": [
       "News         0\n",
       "timestamp    0\n",
       "dtype: int64"
      ]
     },
     "execution_count": 7,
     "metadata": {},
     "output_type": "execute_result"
    }
   ],
   "source": [
    "test.isnull().sum().sort_values(ascending=False)"
   ]
  },
  {
   "cell_type": "markdown",
   "metadata": {},
   "source": [
    "- Only one new article row is missing from the train as mentioned in the initial blurb. This makes sense so we can create the targets using the previous data for the DJIAI"
   ]
  },
  {
   "cell_type": "code",
   "execution_count": 8,
   "metadata": {
    "collapsed": false
   },
   "outputs": [
    {
     "name": "stdout",
     "output_type": "stream",
     "text": [
      "training rows: 1736\n",
      "test rows: 253\n"
     ]
    }
   ],
   "source": [
    "print 'training rows: %d' % train.shape[0]\n",
    "print 'test rows: %d' % test.shape[0]"
   ]
  },
  {
   "cell_type": "code",
   "execution_count": 9,
   "metadata": {
    "collapsed": false
   },
   "outputs": [
    {
     "data": {
      "text/plain": [
       "timestamp    datetime64[ns]\n",
       "News                 object\n",
       "Price               float64\n",
       "dtype: object"
      ]
     },
     "execution_count": 9,
     "metadata": {},
     "output_type": "execute_result"
    }
   ],
   "source": [
    "train.dtypes"
   ]
  },
  {
   "cell_type": "code",
   "execution_count": 10,
   "metadata": {
    "collapsed": false
   },
   "outputs": [
    {
     "data": {
      "text/plain": [
       "timestamp    datetime64[ns]\n",
       "News                 object\n",
       "dtype: object"
      ]
     },
     "execution_count": 10,
     "metadata": {},
     "output_type": "execute_result"
    }
   ],
   "source": [
    "test.dtypes"
   ]
  },
  {
   "cell_type": "markdown",
   "metadata": {
    "collapsed": false
   },
   "source": [
    "- Let's take a look at what one of the article posts looks like"
   ]
  },
  {
   "cell_type": "code",
   "execution_count": 11,
   "metadata": {
    "collapsed": false
   },
   "outputs": [
    {
     "data": {
      "text/plain": [
       "'[\\'US now has more Spanish speakers than Spain  only Mexico has more\\', \\'At least 116 feared dead in after Indonesian military plane crashes into a major city\\', \\'ISIS just executed its top official in Mosul for planning a coup\\', \\'The remains of an unidentified sea animal with fur on its tail have been washed ashore in the Far East. Found near the airport at Shakhtersk, on Sakhalin Island, its appearance is unlike anything ever found in Russia.\\', \\'1,000 runners get norovirus after French mud run\\', \\'Saudi comedian gets death threats for satirizing IS\\', \"ISIS executes women by beheading for the first time for \\'sorcery\\' in Syria\", \\'South Sudan army raped and then burned girls alive, says UN\\', \\'Australia bans 220 videogames in four months as Government adopts new classification model\\', \\'New WikiLeaks Documents Reveal NSA Spied On Top French Companies\\', \\'Russia to review 1991 decision to recognise independence of Baltic states\\', \\'CIA photos of black sites could complicate Guantanamo trials | Military prosecutors this year learned about a massive cache of CIA photographs of its former overseas black sites while reviewing material collected for the Senate investigation of the agencys interrogation program, officials said\\', \\'Liberia: 17 year old Boy dies of Ebola seven weeks after WHO declared Country Free of Virus\\', \"Tunisia hotel attack: Armed police were \\'paralysed by fear\\' and let gunman run amok for half an hour, says witness\", \\'EU agrees to eliminate roaming charges but net neutrality rules disappoint\\', \"Almost a third of China\\'s Great Wall has disappeared: Natural erosion, damage from tourists and people stealing bricks to build houses mean estimates of the walls length now vary from 9,00021,000 km\", \\'South Sudans army raped then torched girls alive inside their homes during a recent campaign notable for its new brutality and intensity, a U.N. rights report said Tuesday.\\', \\'China says wants Greece in euro zone, pledges EU infrastructure investment\\', \\'Greece proposes 2 year bridge loan and restructuring of debt to Eurogroup\\', \\'Israel considering leaving UN Human Rights Council\\', \\'NSA wiretapped two French finance ministers: Wikileaks\\', \\'Afghans Protest After U.S. Forces Carry Out Raid on Strongman - The raid demonstrated that American troops in Afghanistan, months after President Obama declared their regular combat mission over, are engaged beyond their publicly stated role of advising the Afghan forces...\\', \"Hamas Shuts Offices of Gaza\\'s Sole Cellular Operator\", \"Mexico won\\'t send candidate to Miss Universe over Trump comments-Televisa\", \"Russia Beats Saudi Arabia to Become China\\'s Top Oil Supplier\"]'"
      ]
     },
     "execution_count": 11,
     "metadata": {},
     "output_type": "execute_result"
    }
   ],
   "source": [
    "train['News'][1]"
   ]
  },
  {
   "cell_type": "markdown",
   "metadata": {},
   "source": [
    "- Looks like in news column it incudes all the 25 top articles in one column for that specific date.\n",
    "- 2 Ways to deal with this:\n",
    "    1. Clean this up and create BOW, TFIDF, or W2V average for the multiple titles. \n",
    "    2. Or break each 25 articles into different rows\n",
    "- To clean the text we will concatenate both train and test together."
   ]
  },
  {
   "cell_type": "code",
   "execution_count": 12,
   "metadata": {
    "collapsed": false
   },
   "outputs": [
    {
     "data": {
      "text/plain": [
       "count     1736.000000\n",
       "mean     12910.766845\n",
       "std       2977.616138\n",
       "min       6547.049805\n",
       "25%      10605.932862\n",
       "50%      12576.375000\n",
       "75%      15520.934815\n",
       "max      18312.390625\n",
       "Name: Price, dtype: float64"
      ]
     },
     "execution_count": 12,
     "metadata": {},
     "output_type": "execute_result"
    }
   ],
   "source": [
    "train['Price'].describe()"
   ]
  },
  {
   "cell_type": "code",
   "execution_count": 13,
   "metadata": {
    "collapsed": false
   },
   "outputs": [
    {
     "data": {
      "image/png": "[encoded data removed]",
      "text/plain": [
       "<matplotlib.figure.Figure at 0x1122ea910>"
      ]
     },
     "metadata": {},
     "output_type": "display_data"
    }
   ],
   "source": [
    "sns.distplot(train.Price.values, kde=True)\n",
    "plt.show()"
   ]
  },
  {
   "cell_type": "code",
   "execution_count": 14,
   "metadata": {
    "collapsed": false
   },
   "outputs": [
    {
     "data": {
      "text/plain": [
       "<matplotlib.axes._subplots.AxesSubplot at 0x1122ea950>"
      ]
     },
     "execution_count": 14,
     "metadata": {},
     "output_type": "execute_result"
    },
    {
     "data": {
      "image/png": "[encoded data removed]",
      "text/plain": [
       "<matplotlib.figure.Figure at 0x1126232d0>"
      ]
     },
     "metadata": {},
     "output_type": "display_data"
    }
   ],
   "source": [
    "train.plot()"
   ]
  },
  {
   "cell_type": "markdown",
   "metadata": {},
   "source": [
    "# Create targets\n",
    "\n",
    "- Create a 1 if the price is the same or larger as previous price\n",
    "- Put a 0 if the price is less than the previous price\n",
    "- It was told to us that the dates are off put one day so that the targets are truely predicting the next day.\n",
    "- Something to think about is off setting two days as the market may not adjust so quickly."
   ]
  },
  {
   "cell_type": "code",
   "execution_count": 15,
   "metadata": {
    "collapsed": false
   },
   "outputs": [],
   "source": [
    "train.sort_values('timestamp', inplace = True) # sort data so that the targets make sense\n",
    "targets = []\n",
    "targets.append(np.nan)\n",
    "for idx in range(1,train.shape[0]):\n",
    "    prev_price = train.iloc[idx-1].loc['Price']\n",
    "    curr_price = train.iloc[idx].loc['Price']\n",
    "    if curr_price >= prev_price:\n",
    "        curr_targ = 1\n",
    "    else:\n",
    "        curr_targ = 0\n",
    "    targets.append(curr_targ)\n",
    "train['targets'] = targets"
   ]
  },
  {
   "cell_type": "code",
   "execution_count": 16,
   "metadata": {
    "collapsed": false
   },
   "outputs": [
    {
     "data": {
      "text/html": [
       "<div>\n",
       "<style>\n",
       "    .dataframe thead tr:only-child th {\n",
       "        text-align: right;\n",
       "    }\n",
       "\n",
       "    .dataframe thead th {\n",
       "        text-align: left;\n",
       "    }\n",
       "\n",
       "    .dataframe tbody tr th {\n",
       "        vertical-align: top;\n",
       "    }\n",
       "</style>\n",
       "<table border=\"1\" class=\"dataframe\">\n",
       "  <thead>\n",
       "    <tr style=\"text-align: right;\">\n",
       "      <th></th>\n",
       "      <th>timestamp</th>\n",
       "      <th>News</th>\n",
       "      <th>Price</th>\n",
       "      <th>targets</th>\n",
       "    </tr>\n",
       "  </thead>\n",
       "  <tbody>\n",
       "    <tr>\n",
       "      <th>1735</th>\n",
       "      <td>2008-08-08</td>\n",
       "      <td>['b\"Georgia \\'downs two Russian warplanes\\' as...</td>\n",
       "      <td>11734.320312</td>\n",
       "      <td>NaN</td>\n",
       "    </tr>\n",
       "    <tr>\n",
       "      <th>1734</th>\n",
       "      <td>2008-08-11</td>\n",
       "      <td>[\"b'Why wont America and Nato help us? If they...</td>\n",
       "      <td>11782.349609</td>\n",
       "      <td>1.0</td>\n",
       "    </tr>\n",
       "    <tr>\n",
       "      <th>1733</th>\n",
       "      <td>2008-08-12</td>\n",
       "      <td>[\"b'Remember that adorable 9-year-old who sang...</td>\n",
       "      <td>11642.469727</td>\n",
       "      <td>0.0</td>\n",
       "    </tr>\n",
       "    <tr>\n",
       "      <th>1732</th>\n",
       "      <td>2008-08-13</td>\n",
       "      <td>[\"b' U.S. refuses Israel weapons to attack Ira...</td>\n",
       "      <td>11532.959961</td>\n",
       "      <td>0.0</td>\n",
       "    </tr>\n",
       "    <tr>\n",
       "      <th>1731</th>\n",
       "      <td>2008-08-14</td>\n",
       "      <td>[\"b'All the experts admit that we should legal...</td>\n",
       "      <td>11615.929688</td>\n",
       "      <td>1.0</td>\n",
       "    </tr>\n",
       "  </tbody>\n",
       "</table>\n",
       "</div>"
      ],
      "text/plain": [
       "      timestamp                                               News  \\\n",
       "1735 2008-08-08  ['b\"Georgia \\'downs two Russian warplanes\\' as...   \n",
       "1734 2008-08-11  [\"b'Why wont America and Nato help us? If they...   \n",
       "1733 2008-08-12  [\"b'Remember that adorable 9-year-old who sang...   \n",
       "1732 2008-08-13  [\"b' U.S. refuses Israel weapons to attack Ira...   \n",
       "1731 2008-08-14  [\"b'All the experts admit that we should legal...   \n",
       "\n",
       "             Price  targets  \n",
       "1735  11734.320312      NaN  \n",
       "1734  11782.349609      1.0  \n",
       "1733  11642.469727      0.0  \n",
       "1732  11532.959961      0.0  \n",
       "1731  11615.929688      1.0  "
      ]
     },
     "execution_count": 16,
     "metadata": {},
     "output_type": "execute_result"
    }
   ],
   "source": [
    "train.head() # double check targets that they make sense"
   ]
  },
  {
   "cell_type": "code",
   "execution_count": 17,
   "metadata": {
    "collapsed": false
   },
   "outputs": [],
   "source": [
    "train['News'].fillna('EMPTY', inplace=True)"
   ]
  },
  {
   "cell_type": "code",
   "execution_count": 18,
   "metadata": {
    "collapsed": false
   },
   "outputs": [
    {
     "name": "stdout",
     "output_type": "stream",
     "text": [
      "Count of targets = 1: 937\n",
      "Count of targets = 0: 798\n"
     ]
    }
   ],
   "source": [
    "print 'Count of targets = 1: %d' % (train[train['targets'] == 1]['targets']).count()\n",
    "print 'Count of targets = 0: %d' % (train[train['targets'] == 0]['targets']).count()"
   ]
  },
  {
   "cell_type": "markdown",
   "metadata": {},
   "source": [
    "- The counts are some what even but we should still look at an F1 measure since they are not perfectly distributed. "
   ]
  },
  {
   "cell_type": "markdown",
   "metadata": {},
   "source": [
    "# Clean up Text"
   ]
  },
  {
   "cell_type": "code",
   "execution_count": 19,
   "metadata": {
    "collapsed": false
   },
   "outputs": [],
   "source": [
    "import nltk\n",
    "from nltk.tokenize import word_tokenize\n",
    "import HTMLParser\n",
    "from bs4 import BeautifulSoup\n",
    "from markdown import markdown\n",
    "import urllib2\n",
    "from nltk.stem import PorterStemmer\n",
    "from nltk import word_tokenize \n",
    "from nltk.corpus import stopwords\n",
    "from sklearn.feature_extraction.text import CountVectorizer,TfidfVectorizer\n",
    "from nltk.stem.wordnet import WordNetLemmatizer\n",
    "import re\n",
    "from markdown import markdown\n",
    "from nltk.corpus import stopwords # Import the stop word list\n",
    "\n",
    "lmtzr = WordNetLemmatizer()\n",
    "class WordNetLemmatizer(object):\n",
    "    def __init__(self):\n",
    "        self.lmtzr = lmtzr.lemmatize    \n",
    "    def __call__(self, doc):\n",
    "        return [self.lmtzr(t) for t in word_tokenize(doc)]"
   ]
  },
  {
   "cell_type": "code",
   "execution_count": 20,
   "metadata": {
    "collapsed": false
   },
   "outputs": [],
   "source": [
    "tfidfvect = TfidfVectorizer(\n",
    "    ngram_range=(2,2),\n",
    "    encoding = 'utf-8',\n",
    "    tokenizer = WordNetLemmatizer(),\n",
    "    # tokenizer = PorterTokenizer(),\n",
    "    stop_words = stopwords.words('english'),\n",
    "    lowercase = True\n",
    ")\n",
    "\n",
    "countvect = CountVectorizer(\n",
    "    ngram_range=(2,2),\n",
    "    encoding = 'utf-8',\n",
    "    tokenizer = WordNetLemmatizer(),\n",
    "    # tokenizer = PorterTokenizer(),\n",
    "    stop_words = stopwords.words('english'),\n",
    "    lowercase = True\n",
    ")"
   ]
  },
  {
   "cell_type": "markdown",
   "metadata": {},
   "source": [
    "- Create a function for one off weird words that I can fix here."
   ]
  },
  {
   "cell_type": "code",
   "execution_count": 21,
   "metadata": {
    "collapsed": false
   },
   "outputs": [],
   "source": [
    "def clean_text(example):\n",
    "    example1 = example.replace(\"\\\\\\'\", \"\")\n",
    "    example2 = example1.replace('\"b','')\n",
    "    example3 = example2.replace(\"'b\",\"\")\n",
    "    example4 = example3.replace('U.S.', 'US')\n",
    "    example5 = example4.replace('U.N.', 'UN')\n",
    "    example6 = example5.replace('U.K.', 'UK')\n",
    "    example7 = example6.replace('al queda', 'alqueda')\n",
    "    return example7"
   ]
  },
  {
   "cell_type": "code",
   "execution_count": 22,
   "metadata": {
    "collapsed": false
   },
   "outputs": [],
   "source": [
    "def structure_text(example, featuretype, remove_stopwords=True):\n",
    "    example1 = clean_text(example)\n",
    "    example2 = BeautifulSoup(example1,'lxml')\n",
    "    example3 = re.sub(\"[^a-zA-Z]\", \" \", example2.get_text())\n",
    "    example4 = example3.lower() \n",
    "    example5 = example4.split()\n",
    "    if remove_stopwords:\n",
    "        stops = set(stopwords.words(\"english\"))\n",
    "        words = [w for w in example5 if not w in stops]  \n",
    "        \n",
    "    if featuretype == 'tfidf' or featuretype == 'count' or featuretype == 'word2vec':\n",
    "        return( \" \".join( words )) \n",
    "    else: \n",
    "        return words"
   ]
  },
  {
   "cell_type": "code",
   "execution_count": 23,
   "metadata": {
    "collapsed": false
   },
   "outputs": [],
   "source": [
    "def cleanwords(train, test, featuretype):\n",
    "    clean_train_reviews_raw = []\n",
    "    clean_test_reviews_raw = []\n",
    "    for i in range(train.shape[0]):\n",
    "        clean_train_reviews_raw.append( structure_text( train['News'].iloc[i], featuretype ) )\n",
    "    for i in range(test.shape[0]):\n",
    "        clean_test_reviews_raw.append( structure_text( test['News'].iloc[i], featuretype ) )\n",
    "    return clean_train_reviews_raw, clean_test_reviews_raw"
   ]
  },
  {
   "cell_type": "code",
   "execution_count": 24,
   "metadata": {
    "collapsed": false
   },
   "outputs": [
    {
     "data": {
      "text/plain": [
       "'[\\'US now has more Spanish speakers than Spain  only Mexico has more\\', \\'At least 116 feared dead in after Indonesian military plane crashes into a major city\\', \\'ISIS just executed its top official in Mosul for planning a coup\\', \\'The remains of an unidentified sea animal with fur on its tail have been washed ashore in the Far East. Found near the airport at Shakhtersk, on Sakhalin Island, its appearance is unlike anything ever found in Russia.\\', \\'1,000 runners get norovirus after French mud run\\', \\'Saudi comedian gets death threats for satirizing IS\\', \"ISIS executes women by beheading for the first time for \\'sorcery\\' in Syria\", \\'South Sudan army raped and then burned girls alive, says UN\\', \\'Australia bans 220 videogames in four months as Government adopts new classification model\\', \\'New WikiLeaks Documents Reveal NSA Spied On Top French Companies\\', \\'Russia to review 1991 decision to recognise independence of Baltic states\\', \\'CIA photos of black sites could complicate Guantanamo trials | Military prosecutors this year learned about a massive cache of CIA photographs of its former overseas black sites while reviewing material collected for the Senate investigation of the agencys interrogation program, officials said\\', \\'Liberia: 17 year old Boy dies of Ebola seven weeks after WHO declared Country Free of Virus\\', \"Tunisia hotel attack: Armed police were \\'paralysed by fear\\' and let gunman run amok for half an hour, says witness\", \\'EU agrees to eliminate roaming charges but net neutrality rules disappoint\\', \"Almost a third of China\\'s Great Wall has disappeared: Natural erosion, damage from tourists and people stealing bricks to build houses mean estimates of the walls length now vary from 9,00021,000 km\", \\'South Sudans army raped then torched girls alive inside their homes during a recent campaign notable for its new brutality and intensity, a U.N. rights report said Tuesday.\\', \\'China says wants Greece in euro zone, pledges EU infrastructure investment\\', \\'Greece proposes 2 year bridge loan and restructuring of debt to Eurogroup\\', \\'Israel considering leaving UN Human Rights Council\\', \\'NSA wiretapped two French finance ministers: Wikileaks\\', \\'Afghans Protest After U.S. Forces Carry Out Raid on Strongman - The raid demonstrated that American troops in Afghanistan, months after President Obama declared their regular combat mission over, are engaged beyond their publicly stated role of advising the Afghan forces...\\', \"Hamas Shuts Offices of Gaza\\'s Sole Cellular Operator\", \"Mexico won\\'t send candidate to Miss Universe over Trump comments-Televisa\", \"Russia Beats Saudi Arabia to Become China\\'s Top Oil Supplier\"]'"
      ]
     },
     "execution_count": 24,
     "metadata": {},
     "output_type": "execute_result"
    }
   ],
   "source": [
    "train['News'][1]"
   ]
  },
  {
   "cell_type": "code",
   "execution_count": 25,
   "metadata": {
    "collapsed": false
   },
   "outputs": [],
   "source": [
    "clean_train_reviews_raw, clean_test_reviews_raw = cleanwords(train, test, 'tfidf')"
   ]
  },
  {
   "cell_type": "markdown",
   "metadata": {},
   "source": [
    "- Look pretty good.\n",
    "- Some words are weirdly broken up al queda, however there will be alot of one offs that we can add to out list as wel go through."
   ]
  },
  {
   "cell_type": "markdown",
   "metadata": {},
   "source": [
    "# Create Features"
   ]
  },
  {
   "cell_type": "markdown",
   "metadata": {},
   "source": [
    "Lets test out three different types of features:\n",
    "- Bag of Words\n",
    "- TFIDF\n",
    "- Word to Vec - For Word to Vec since our data is relatively small we may try to find pretrained word vector."
   ]
  },
  {
   "cell_type": "code",
   "execution_count": 26,
   "metadata": {
    "collapsed": true
   },
   "outputs": [],
   "source": [
    "def makeFeatureVec(words, model, num_features):\n",
    "    featureVec = np.zeros((num_features,),dtype=\"float32\")\n",
    "    nwords = 0.\n",
    "    index2word_set = set(model.index2word)\n",
    "    for word in words:\n",
    "        if word in index2word_set: \n",
    "            nwords = nwords + 1.\n",
    "            featureVec = np.add(featureVec,model[word])\n",
    "    featureVec = np.divide(featureVec,nwords)\n",
    "    return featureVec\n",
    "\n",
    "\n",
    "def getAvgFeatureVecs(reviews, model, num_features):\n",
    "    counter = 0\n",
    "    reviewFeatureVecs = np.zeros((len(reviews),num_features),dtype=\"float32\")\n",
    "    for review in reviews:\n",
    "        print \"Review %d of %d\" % (counter, len(reviews))\n",
    "        #print 'review', review\n",
    "        reviewFeatureVecs[counter] = makeFeatureVec(review, model, num_features)\n",
    "        counter = counter + 1\n",
    "    return reviewFeatureVecs"
   ]
  },
  {
   "cell_type": "code",
   "execution_count": 27,
   "metadata": {
    "collapsed": false
   },
   "outputs": [
    {
     "data": {
      "text/plain": [
       "u'georgia downs two russian warplanes countries move brink war breaking musharraf impeached russia today columns troops roll south ossetia footage fighting youtube russian tanks moving towards capital south ossetia reportedly completely destroyed georgian artillery fire afghan children raped impunity un official says sick three year old raped nothing russian tanks entered south ossetia whilst georgia shoots two russian jets breaking georgia invades south ossetia russia warned would intervene sos side enemy combatent trials nothing sham salim haman sentenced years kept longer anyway feel like georgian troops retreat osettain capital presumably leaving several hundred people killed video us prep georgia war russia rice gives green light israel attack iran says us veto israeli military ops announcing class action lawsuit behalf american public fbi russia georgia war nyts top story opening ceremonies olympics fucking disgrace yet proof decline journalism china tells bush stay countries affairs world war iii start today georgia invades south ossetia russia gets involved nato absorb georgia unleash full scale war al qaeda faces islamist backlash condoleezza rice us would act prevent israeli strike iran israeli defense minister ehud barak israel prepared uncompromising victory case military hostilities busy day european union approved new sanctions iran protest nuclear programme georgia withdraw soldiers iraq help fight russian forces georgias breakaway region south ossetia pentagon thinks attacking iran bad idea us news world report caucasus crisis georgia invades south ossetia indian shoe manufactory series like work visitors suffering mental illnesses banned olympics help mexicos kidnapping surge'"
      ]
     },
     "execution_count": 27,
     "metadata": {},
     "output_type": "execute_result"
    }
   ],
   "source": [
    "clean_train_reviews_raw[0]"
   ]
  },
  {
   "cell_type": "code",
   "execution_count": 28,
   "metadata": {
    "collapsed": false
   },
   "outputs": [],
   "source": [
    "def convertfeatures(train, test, featuretype, model=None, num_features=None):\n",
    "    if featuretype == 'tfidf':\n",
    "        train_data_features = tfidfvect.fit_transform(train)\n",
    "        train_data_features = train_data_features.toarray()\n",
    "        test_data_features = tfidfvect.transform(test)\n",
    "        test_data_features = test_data_features.toarray()        \n",
    "    elif featuretype == 'count':\n",
    "        train_data_features = countvect.fit_transform(train)\n",
    "        train_data_features = train_data_features.toarray()\n",
    "        test_data_features = countvect.fit_transform(test)\n",
    "        test_data_features = test_data_features.toarray()\n",
    "    elif featuretype == 'word2vec':\n",
    "        train_data_features = getAvgFeatureVecs( train, model, num_features )\n",
    "        test_data_features = getAvgFeatureVecs( test, model, num_features )\n",
    "    return train_data_features, test_data_features"
   ]
  },
  {
   "cell_type": "code",
   "execution_count": 29,
   "metadata": {
    "collapsed": false
   },
   "outputs": [],
   "source": [
    "#train_data_features, test_data_features = convertfeatures(clean_train_reviews_raw, clean_test_reviews_raw, 'count')\n",
    "train_data_features, test_data_features = convertfeatures(clean_train_reviews_raw, clean_test_reviews_raw, 'tfidf')"
   ]
  },
  {
   "cell_type": "code",
   "execution_count": 30,
   "metadata": {
    "collapsed": false
   },
   "outputs": [
    {
     "data": {
      "text/plain": [
       "array([[ 0.,  0.,  0., ...,  0.,  0.,  0.],\n",
       "       [ 0.,  0.,  0., ...,  0.,  0.,  0.],\n",
       "       [ 0.,  0.,  0., ...,  0.,  0.,  0.],\n",
       "       ..., \n",
       "       [ 0.,  0.,  0., ...,  0.,  0.,  0.],\n",
       "       [ 0.,  0.,  0., ...,  0.,  0.,  0.],\n",
       "       [ 0.,  0.,  0., ...,  0.,  0.,  0.]])"
      ]
     },
     "execution_count": 30,
     "metadata": {},
     "output_type": "execute_result"
    }
   ],
   "source": [
    "train_data_features"
   ]
  },
  {
   "cell_type": "code",
   "execution_count": 31,
   "metadata": {
    "collapsed": false
   },
   "outputs": [
    {
     "name": "stdout",
     "output_type": "stream",
     "text": [
      "clean reviews train: 1736\n",
      "clean review test: 253\n"
     ]
    }
   ],
   "source": [
    "print 'clean reviews train: %d' % len(clean_train_reviews_raw)\n",
    "print 'clean review test: %d' % len(clean_test_reviews_raw)"
   ]
  },
  {
   "cell_type": "code",
   "execution_count": 32,
   "metadata": {
    "collapsed": false
   },
   "outputs": [
    {
     "data": {
      "text/plain": [
       "(1736, 371131)"
      ]
     },
     "execution_count": 32,
     "metadata": {},
     "output_type": "execute_result"
    }
   ],
   "source": [
    "train_data_features.shape"
   ]
  },
  {
   "cell_type": "markdown",
   "metadata": {},
   "source": [
    "# test base line model for score and feature importances using 2-gram tfidf"
   ]
  },
  {
   "cell_type": "code",
   "execution_count": 33,
   "metadata": {
    "collapsed": false
   },
   "outputs": [
    {
     "name": "stdout",
     "output_type": "stream",
     "text": [
      "train score 1.000000\n"
     ]
    }
   ],
   "source": [
    "from sklearn.ensemble import RandomForestClassifier\n",
    "forest = RandomForestClassifier(n_estimators = 100) \n",
    "\n",
    "train_data_features2 = train_data_features[1:,]\n",
    "train_target2 = train['targets'][1:]\n",
    "\n",
    "forest.fit( train_data_features2, train_target2)\n",
    "\n",
    "print 'train score %f' % forest.score(train_data_features2, train_target2)"
   ]
  },
  {
   "cell_type": "markdown",
   "metadata": {},
   "source": [
    "- the score is perfect. However It is very possible that it has over fit.\n",
    "- Let's make sure the features look some what right and then retrain breaking the train into TRAIN, CV"
   ]
  },
  {
   "cell_type": "code",
   "execution_count": 34,
   "metadata": {
    "collapsed": false
   },
   "outputs": [
    {
     "data": {
      "text/html": [
       "<div>\n",
       "<style>\n",
       "    .dataframe thead tr:only-child th {\n",
       "        text-align: right;\n",
       "    }\n",
       "\n",
       "    .dataframe thead th {\n",
       "        text-align: left;\n",
       "    }\n",
       "\n",
       "    .dataframe tbody tr th {\n",
       "        vertical-align: top;\n",
       "    }\n",
       "</style>\n",
       "<table border=\"1\" class=\"dataframe\">\n",
       "  <thead>\n",
       "    <tr style=\"text-align: right;\">\n",
       "      <th></th>\n",
       "      <th>feature_importance</th>\n",
       "      <th>feature_name</th>\n",
       "    </tr>\n",
       "  </thead>\n",
       "  <tbody>\n",
       "    <tr>\n",
       "      <th>371130</th>\n",
       "      <td>0.001402</td>\n",
       "      <td>nuclear weapon</td>\n",
       "    </tr>\n",
       "    <tr>\n",
       "      <th>371129</th>\n",
       "      <td>0.001177</td>\n",
       "      <td>u army</td>\n",
       "    </tr>\n",
       "    <tr>\n",
       "      <th>371128</th>\n",
       "      <td>0.001168</td>\n",
       "      <td>suicide bomber</td>\n",
       "    </tr>\n",
       "    <tr>\n",
       "      <th>371127</th>\n",
       "      <td>0.001078</td>\n",
       "      <td>reported killed</td>\n",
       "    </tr>\n",
       "    <tr>\n",
       "      <th>371126</th>\n",
       "      <td>0.001063</td>\n",
       "      <td>military base</td>\n",
       "    </tr>\n",
       "    <tr>\n",
       "      <th>371125</th>\n",
       "      <td>0.001001</td>\n",
       "      <td>sexual abuse</td>\n",
       "    </tr>\n",
       "    <tr>\n",
       "      <th>371124</th>\n",
       "      <td>0.000839</td>\n",
       "      <td>next year</td>\n",
       "    </tr>\n",
       "    <tr>\n",
       "      <th>371123</th>\n",
       "      <td>0.000826</td>\n",
       "      <td>n bbc</td>\n",
       "    </tr>\n",
       "    <tr>\n",
       "      <th>371122</th>\n",
       "      <td>0.000808</td>\n",
       "      <td>iranian government</td>\n",
       "    </tr>\n",
       "    <tr>\n",
       "      <th>371121</th>\n",
       "      <td>0.000807</td>\n",
       "      <td>around world</td>\n",
       "    </tr>\n",
       "    <tr>\n",
       "      <th>371120</th>\n",
       "      <td>0.000797</td>\n",
       "      <td>two year</td>\n",
       "    </tr>\n",
       "    <tr>\n",
       "      <th>371119</th>\n",
       "      <td>0.000787</td>\n",
       "      <td>al qaeda</td>\n",
       "    </tr>\n",
       "    <tr>\n",
       "      <th>371118</th>\n",
       "      <td>0.000732</td>\n",
       "      <td>united state</td>\n",
       "    </tr>\n",
       "    <tr>\n",
       "      <th>371117</th>\n",
       "      <td>0.000716</td>\n",
       "      <td>iraq inquiry</td>\n",
       "    </tr>\n",
       "    <tr>\n",
       "      <th>371116</th>\n",
       "      <td>0.000700</td>\n",
       "      <td>without court</td>\n",
       "    </tr>\n",
       "    <tr>\n",
       "      <th>371115</th>\n",
       "      <td>0.000678</td>\n",
       "      <td>un report</td>\n",
       "    </tr>\n",
       "    <tr>\n",
       "      <th>371114</th>\n",
       "      <td>0.000676</td>\n",
       "      <td>security service</td>\n",
       "    </tr>\n",
       "    <tr>\n",
       "      <th>371113</th>\n",
       "      <td>0.000675</td>\n",
       "      <td>news international</td>\n",
       "    </tr>\n",
       "    <tr>\n",
       "      <th>371112</th>\n",
       "      <td>0.000665</td>\n",
       "      <td>greenhouse gas</td>\n",
       "    </tr>\n",
       "    <tr>\n",
       "      <th>371111</th>\n",
       "      <td>0.000660</td>\n",
       "      <td>st time</td>\n",
       "    </tr>\n",
       "    <tr>\n",
       "      <th>371110</th>\n",
       "      <td>0.000648</td>\n",
       "      <td>iran nuclear</td>\n",
       "    </tr>\n",
       "    <tr>\n",
       "      <th>371109</th>\n",
       "      <td>0.000643</td>\n",
       "      <td>year old</td>\n",
       "    </tr>\n",
       "    <tr>\n",
       "      <th>371108</th>\n",
       "      <td>0.000641</td>\n",
       "      <td>nuclear plant</td>\n",
       "    </tr>\n",
       "    <tr>\n",
       "      <th>371107</th>\n",
       "      <td>0.000634</td>\n",
       "      <td>haiti earthquake</td>\n",
       "    </tr>\n",
       "    <tr>\n",
       "      <th>371106</th>\n",
       "      <td>0.000627</td>\n",
       "      <td>arm dealer</td>\n",
       "    </tr>\n",
       "  </tbody>\n",
       "</table>\n",
       "</div>"
      ],
      "text/plain": [
       "        feature_importance        feature_name\n",
       "371130            0.001402      nuclear weapon\n",
       "371129            0.001177              u army\n",
       "371128            0.001168      suicide bomber\n",
       "371127            0.001078     reported killed\n",
       "371126            0.001063       military base\n",
       "371125            0.001001        sexual abuse\n",
       "371124            0.000839           next year\n",
       "371123            0.000826               n bbc\n",
       "371122            0.000808  iranian government\n",
       "371121            0.000807        around world\n",
       "371120            0.000797            two year\n",
       "371119            0.000787            al qaeda\n",
       "371118            0.000732        united state\n",
       "371117            0.000716        iraq inquiry\n",
       "371116            0.000700       without court\n",
       "371115            0.000678           un report\n",
       "371114            0.000676    security service\n",
       "371113            0.000675  news international\n",
       "371112            0.000665      greenhouse gas\n",
       "371111            0.000660             st time\n",
       "371110            0.000648        iran nuclear\n",
       "371109            0.000643            year old\n",
       "371108            0.000641       nuclear plant\n",
       "371107            0.000634    haiti earthquake\n",
       "371106            0.000627          arm dealer"
      ]
     },
     "execution_count": 34,
     "metadata": {},
     "output_type": "execute_result"
    }
   ],
   "source": [
    "for_values, for_names = zip(*sorted(zip(forest.feature_importances_, tfidfvect.get_feature_names())))\n",
    "for_features = pd.DataFrame({'feature_importance' : for_values, 'feature_name' : for_names})\n",
    "for_features.sort_values('feature_importance', ascending=False).head(25)"
   ]
  },
  {
   "cell_type": "code",
   "execution_count": 35,
   "metadata": {
    "collapsed": true
   },
   "outputs": [],
   "source": [
    "def createtraintestsplit(train, train_data_features):\n",
    "    train_sample = train[train['timestamp'] <= pd.to_datetime('2014-06-30')]\n",
    "    cv_sample = train[(train['timestamp'] >= pd.to_datetime('2014-07-01')) & (train['timestamp'] <= pd.to_datetime('2015-06-30'))]\n",
    "    \n",
    "    y_train = train_sample['targets'][1:]\n",
    "    y_cv = cv_sample['targets']\n",
    "    \n",
    "    X_train = train_data_features[1:1483,:]\n",
    "    X_cv = train_data_features[1484:,:]\n",
    "    return X_train, y_train, X_cv, y_cv "
   ]
  },
  {
   "cell_type": "code",
   "execution_count": 36,
   "metadata": {
    "collapsed": false
   },
   "outputs": [],
   "source": [
    "X_train, y_train, X_cv, y_cv  = createtraintestsplit(train, train_data_features)"
   ]
  },
  {
   "cell_type": "code",
   "execution_count": 37,
   "metadata": {
    "collapsed": false
   },
   "outputs": [
    {
     "name": "stdout",
     "output_type": "stream",
     "text": [
      "train score 1.000000\n",
      "cv score 0.527778\n"
     ]
    }
   ],
   "source": [
    "forest2 = RandomForestClassifier(n_estimators = 100) \n",
    "forest2.fit( X_train, y_train)\n",
    "\n",
    "print 'train score %f' % forest2.score(X_train, y_train)\n",
    "print 'cv score %f' % forest2.score(X_cv, y_cv)"
   ]
  },
  {
   "cell_type": "markdown",
   "metadata": {},
   "source": [
    "- now we can see that it seems to be way overfitting.\n",
    "- A couple ways to alleviate it could be less features so its not over fitting to this.\n",
    "- Let's try changing the dimenion of vector to 2000"
   ]
  },
  {
   "cell_type": "code",
   "execution_count": 38,
   "metadata": {
    "collapsed": false
   },
   "outputs": [],
   "source": [
    "tfidfvect = TfidfVectorizer(\n",
    "    ngram_range=(2,2),\n",
    "    encoding = 'utf-8',\n",
    "    tokenizer = WordNetLemmatizer(),\n",
    "    # tokenizer = PorterTokenizer(),\n",
    "    stop_words = stopwords.words('english'),\n",
    "    lowercase = True,\n",
    "    max_features = 300000\n",
    ")"
   ]
  },
  {
   "cell_type": "code",
   "execution_count": 39,
   "metadata": {
    "collapsed": true
   },
   "outputs": [],
   "source": [
    "train_data_features2, test_data_features2 = convertfeatures(clean_train_reviews_raw, clean_test_reviews_raw, 'tfidf')\n",
    "X_train2, y_train2, X_cv2, y_cv2  = createtraintestsplit(train, train_data_features2)"
   ]
  },
  {
   "cell_type": "code",
   "execution_count": 40,
   "metadata": {
    "collapsed": false
   },
   "outputs": [
    {
     "name": "stdout",
     "output_type": "stream",
     "text": [
      "train score 1.000000\n",
      "cv score 0.531746\n"
     ]
    }
   ],
   "source": [
    "forest3 = RandomForestClassifier(n_estimators = 100) \n",
    "forest3.fit( X_train2, y_train2)\n",
    "\n",
    "print 'train score %f' % forest3.score(X_train2, y_train2)\n",
    "print 'cv score %f' % forest3.score(X_cv2, y_cv2)"
   ]
  },
  {
   "cell_type": "markdown",
   "metadata": {},
   "source": [
    "- that score is worse so i guess extra features were better. I think also trying a neural network could help and it does better with more features"
   ]
  },
  {
   "cell_type": "markdown",
   "metadata": {},
   "source": [
    "# NEURAL NETWORKS"
   ]
  },
  {
   "cell_type": "code",
   "execution_count": 41,
   "metadata": {
    "collapsed": false
   },
   "outputs": [
    {
     "name": "stderr",
     "output_type": "stream",
     "text": [
      "Using TensorFlow backend.\n"
     ]
    }
   ],
   "source": [
    "import numpy as np\n",
    "from keras.preprocessing import sequence\n",
    "from keras.preprocessing.text import Tokenizer\n",
    "from keras.models import Sequential\n",
    "from keras.layers import Dense, Dropout, Activation, Flatten, Lambda\n",
    "from keras.layers.embeddings import Embedding\n",
    "from keras.layers.recurrent import LSTM, SimpleRNN, GRU\n",
    "\n",
    "from keras.layers import Convolution2D, MaxPooling2D\n",
    "from keras.utils import np_utils\n",
    "from collections import defaultdict\n",
    "from keras import backend as K\n",
    "K.set_image_dim_ordering('th')\n",
    "from keras.layers.convolutional import Convolution1D"
   ]
  },
  {
   "cell_type": "markdown",
   "metadata": {},
   "source": [
    "## LSTM"
   ]
  },
  {
   "cell_type": "code",
   "execution_count": 42,
   "metadata": {
    "collapsed": true
   },
   "outputs": [],
   "source": [
    "nb_classes = 2\n",
    "max_features = 7700\n",
    "EMBEDDING_DIM = 200\n",
    "VALIDATION_SPLIT = 0.1\n",
    "maxlen = 200\n",
    "batch_size = 32"
   ]
  },
  {
   "cell_type": "code",
   "execution_count": 43,
   "metadata": {
    "collapsed": false
   },
   "outputs": [
    {
     "name": "stdout",
     "output_type": "stream",
     "text": [
      "Pad sequences (samples x time)\n",
      "('X_train shape:', (1482, 200))\n",
      "('X_test shape:', (252, 200))\n"
     ]
    }
   ],
   "source": [
    "# structure inputs for hte model\n",
    "clean_review_TRAIN = clean_train_reviews_raw[1:1483]\n",
    "clean_review_CV = clean_train_reviews_raw[1484:]\n",
    "\n",
    "# vectorize the text samples into a 2D integer tensor\n",
    "tokenizer = Tokenizer(num_words=max_features)\n",
    "\n",
    "tokenizer.fit_on_texts(clean_review_TRAIN)\n",
    "sequences_train = tokenizer.texts_to_sequences(clean_review_TRAIN)\n",
    "sequences_test = tokenizer.texts_to_sequences(clean_review_CV)\n",
    "\n",
    "print('Pad sequences (samples x time)')\n",
    "X_train = sequence.pad_sequences(sequences_train, maxlen=maxlen)\n",
    "X_test = sequence.pad_sequences(sequences_test, maxlen=maxlen)\n",
    "\n",
    "Y_train = np_utils.to_categorical(y_train2, nb_classes)\n",
    "Y_test = np_utils.to_categorical(y_cv2, nb_classes)\n",
    "\n",
    "\n",
    "print('X_train shape:', X_train.shape)\n",
    "print('X_test shape:', X_test.shape)"
   ]
  },
  {
   "cell_type": "code",
   "execution_count": 44,
   "metadata": {
    "collapsed": false
   },
   "outputs": [
    {
     "name": "stdout",
     "output_type": "stream",
     "text": [
      "Train...\n"
     ]
    },
    {
     "name": "stderr",
     "output_type": "stream",
     "text": [
      "/Users/laurenmccarthy/anaconda2/lib/python2.7/site-packages/Keras-2.0.8-py2.7.egg/keras/models.py:852: UserWarning: The `nb_epoch` argument in `fit` has been renamed `epochs`.\n"
     ]
    },
    {
     "name": "stdout",
     "output_type": "stream",
     "text": [
      "Train on 1482 samples, validate on 252 samples\n",
      "Epoch 1/3\n",
      "1482/1482 [==============================] - 40s - loss: 0.6901 - acc: 0.5256 - val_loss: 0.6944 - val_acc: 0.5278\n",
      "Epoch 2/3\n",
      "1482/1482 [==============================] - 41s - loss: 0.5680 - acc: 0.7004 - val_loss: 0.8106 - val_acc: 0.4960\n",
      "Epoch 3/3\n",
      "1482/1482 [==============================] - 38s - loss: 0.1911 - acc: 0.9386 - val_loss: 1.1401 - val_acc: 0.5278\n",
      "1482/1482 [==============================] - 7s     \n",
      "252/252 [==============================] - 1s     \n",
      "('Train score:', 0.047854922716876594)\n",
      "('Train accuracy:', 0.99662618083670718)\n",
      "('Test score:', 1.1401034631426372)\n",
      "('Test accuracy:', 0.52777777635861955)\n"
     ]
    }
   ],
   "source": [
    "def LSTMmodel(max_features = 10000, nb_classes = 2):\n",
    "    model = Sequential()\n",
    "    model.add(Embedding(max_features, 128))\n",
    "    model.add(LSTM(128, dropout=0.2, recurrent_dropout=0.2)) \n",
    "    model.add(Dense(nb_classes))\n",
    "    model.add(Activation('softmax'))\n",
    "    model.compile(loss='binary_crossentropy', optimizer='adam', metrics=['accuracy'])\n",
    "    return model\n",
    "\n",
    "model = LSTMmodel(max_features = 10000, nb_classes = 2)\n",
    "\n",
    "print('Train...')\n",
    "model.fit(X_train, Y_train, batch_size=batch_size, nb_epoch=3,\n",
    "          validation_data=(X_test, Y_test))\n",
    "score_train, acc_train = model.evaluate(X_train, Y_train,\n",
    "                            batch_size=batch_size)\n",
    "\n",
    "score, acc = model.evaluate(X_test, Y_test,\n",
    "                            batch_size=batch_size)\n",
    "\n",
    "print('Train score:', score_train)\n",
    "print('Train accuracy:', acc_train)\n",
    "print('Test score:', score)\n",
    "print('Test accuracy:', acc)"
   ]
  },
  {
   "cell_type": "code",
   "execution_count": 45,
   "metadata": {
    "collapsed": false
   },
   "outputs": [
    {
     "name": "stdout",
     "output_type": "stream",
     "text": [
      "Generating test predictions...\n",
      "('Predictions', array([1, 0, 0, ..., 0, 1, 0]))\n"
     ]
    }
   ],
   "source": [
    "print(\"Generating test predictions...\")\n",
    "preds15 = model.predict_classes(X_train, verbose=0)\n",
    "print('Predictions', preds15)"
   ]
  },
  {
   "cell_type": "markdown",
   "metadata": {},
   "source": [
    "- While this has imporved to a 55% accuracy, we can most likely still do better."
   ]
  },
  {
   "cell_type": "markdown",
   "metadata": {},
   "source": [
    "# Word2Vec - with google pretrained word vector"
   ]
  },
  {
   "cell_type": "code",
   "execution_count": 46,
   "metadata": {
    "collapsed": false
   },
   "outputs": [],
   "source": [
    "import gensim\n",
    "from gensim.models.keyedvectors import KeyedVectors\n",
    "from keras.preprocessing.text import Tokenizer\n",
    "from keras.preprocessing import sequence\n",
    "from keras.models import Sequential\n",
    "from keras.layers import Dense\n",
    "from keras.layers import LSTM\n",
    "from keras.layers import Activation\n",
    "from keras.layers.embeddings import Embedding\n",
    "from keras.layers import Convolution1D, MaxPooling1D\n",
    "import numpy as np\n",
    "from keras.utils import np_utils"
   ]
  },
  {
   "cell_type": "code",
   "execution_count": 47,
   "metadata": {
    "collapsed": true
   },
   "outputs": [],
   "source": [
    "# structure inputs for the model\n",
    "train = train.dropna()\n",
    "clean_train_reviews_raw, clean_test_reviews_raw = cleanwords(train, test, 'word2vec')"
   ]
  },
  {
   "cell_type": "code",
   "execution_count": 48,
   "metadata": {
    "collapsed": false
   },
   "outputs": [],
   "source": [
    "google_embeddings = 'dataset/GoogleNews-vectors-negative300.bin'\n",
    "MAX_SEQUENCE_LENGTH = 50\n",
    "MAX_NB_WORDS = 200000\n",
    "EMBEDDING_DIM = 300\n",
    "maxlen = 200\n",
    "nb_classes = 2\n",
    "max_features = 2000"
   ]
  },
  {
   "cell_type": "code",
   "execution_count": 49,
   "metadata": {
    "collapsed": false
   },
   "outputs": [],
   "source": [
    "word2vec = KeyedVectors.load_word2vec_format(google_embeddings, binary=True)"
   ]
  },
  {
   "cell_type": "markdown",
   "metadata": {},
   "source": [
    "- test the model. Just to confirm that the word vector is good."
   ]
  },
  {
   "cell_type": "code",
   "execution_count": 50,
   "metadata": {
    "collapsed": false
   },
   "outputs": [
    {
     "data": {
      "text/plain": [
       "[(u'queen', 0.7118192315101624),\n",
       " (u'monarch', 0.6189674139022827),\n",
       " (u'princess', 0.5902431011199951),\n",
       " (u'crown_prince', 0.5499460697174072),\n",
       " (u'prince', 0.5377321839332581),\n",
       " (u'kings', 0.5236844420433044),\n",
       " (u'Queen_Consort', 0.5235946178436279),\n",
       " (u'queens', 0.5181134343147278),\n",
       " (u'sultan', 0.5098593235015869),\n",
       " (u'monarchy', 0.5087412595748901)]"
      ]
     },
     "execution_count": 50,
     "metadata": {},
     "output_type": "execute_result"
    }
   ],
   "source": [
    "word2vec.most_similar(positive=['woman', 'king'], negative=['man'])"
   ]
  },
  {
   "cell_type": "code",
   "execution_count": 51,
   "metadata": {
    "collapsed": false
   },
   "outputs": [],
   "source": [
    "tokenizer = Tokenizer(num_words=MAX_NB_WORDS)\n",
    "tokenizer.fit_on_texts(clean_train_reviews_raw)\n",
    "\n",
    "sequences_train = tokenizer.texts_to_sequences(clean_train_reviews_raw)\n",
    "sequences_test = tokenizer.texts_to_sequences(clean_test_reviews_raw)\n",
    "\n",
    "X_train = sequence.pad_sequences(sequences_train, maxlen=maxlen)\n",
    "X_test = sequence.pad_sequences(sequences_test, maxlen=maxlen)\n",
    "\n",
    "Y_train = np_utils.to_categorical(train['targets'], nb_classes)\n",
    "\n",
    "word_index = tokenizer.word_index\n",
    "\n",
    "nb_words = min(MAX_NB_WORDS, len(word_index))+1"
   ]
  },
  {
   "cell_type": "code",
   "execution_count": 52,
   "metadata": {
    "collapsed": false
   },
   "outputs": [
    {
     "name": "stdout",
     "output_type": "stream",
     "text": [
      "Null word embeddings: 6858\n",
      "Not Null word embeddings: 25206\n"
     ]
    }
   ],
   "source": [
    "embedding_matrix = np.zeros((nb_words, EMBEDDING_DIM))\n",
    "\n",
    "notinwordlist = []\n",
    "for word, i in word_index.items():\n",
    "    if word in word2vec.vocab:\n",
    "        embedding_matrix[i] = word2vec.word_vec(word)\n",
    "    else:\n",
    "        notinwordlist.append(word)\n",
    "print('Null word embeddings: %d' % np.sum(np.sum(embedding_matrix, axis=1) == 0))\n",
    "print('Not Null word embeddings: %d' % np.sum(np.sum(embedding_matrix, axis=1) != 0))\n"
   ]
  },
  {
   "cell_type": "code",
   "execution_count": 54,
   "metadata": {
    "collapsed": false
   },
   "outputs": [
    {
     "data": {
      "text/plain": [
       "[u'herve',\n",
       " u'islamizing',\n",
       " u'overissuance',\n",
       " u'hedegaard',\n",
       " u'eltahawy',\n",
       " u'lamido',\n",
       " u'intruduced',\n",
       " u'bbqs',\n",
       " u'francesco',\n",
       " u'qashoushs',\n",
       " u'saddams',\n",
       " u'kibungo',\n",
       " u'nawi',\n",
       " u'pistorious',\n",
       " u'toowoomba',\n",
       " u'tomasevic',\n",
       " u'wikimedia',\n",
       " u'dnd',\n",
       " u'nromania',\n",
       " u'fazlullah',\n",
       " u'trashslide',\n",
       " u'gershon',\n",
       " u'radicalisation',\n",
       " u'barbra',\n",
       " u'ghadafi']"
      ]
     },
     "execution_count": 54,
     "metadata": {},
     "output_type": "execute_result"
    }
   ],
   "source": [
    "# take a look at words that did not appear - think of a way to include these - by processing\n",
    "notinwordlist[:25]"
   ]
  },
  {
   "cell_type": "code",
   "execution_count": 55,
   "metadata": {
    "collapsed": false
   },
   "outputs": [],
   "source": [
    "n_symbols = len(embedding_matrix)\n",
    "vocab_dim = len(embedding_matrix[0])\n",
    "nb_epoch=3\n",
    "batch_size=64"
   ]
  },
  {
   "cell_type": "code",
   "execution_count": 56,
   "metadata": {
    "collapsed": false
   },
   "outputs": [],
   "source": [
    "def createtraintestsplit(X_train, y_train):\n",
    "    X_train_val = X_train[:1483,:]\n",
    "    X_cv_val = X_train[1483:,:]\n",
    "    \n",
    "    y_train_val = y_train[:1483,:]\n",
    "    y_cv_val = y_train[1483:,:]\n",
    "    return X_train_val, X_cv_val, y_train_val, y_cv_val"
   ]
  },
  {
   "cell_type": "code",
   "execution_count": 57,
   "metadata": {
    "collapsed": false
   },
   "outputs": [],
   "source": [
    "X_train_val, X_cv_val, y_train_val, y_cv_val = createtraintestsplit(X_train, Y_train)"
   ]
  },
  {
   "cell_type": "code",
   "execution_count": 58,
   "metadata": {
    "collapsed": false
   },
   "outputs": [
    {
     "name": "stdout",
     "output_type": "stream",
     "text": [
      "Train on 1483 samples, validate on 252 samples\n",
      "Epoch 1/3\n",
      "1483/1483 [==============================] - 45s - loss: 0.6957 - acc: 0.5145 - val_loss: 0.6909 - val_acc: 0.5476\n",
      "Epoch 2/3\n",
      "1483/1483 [==============================] - 39s - loss: 0.6383 - acc: 0.6689 - val_loss: 0.7445 - val_acc: 0.5198\n",
      "Epoch 3/3\n",
      "1483/1483 [==============================] - 35s - loss: 0.4615 - acc: 0.8051 - val_loss: 0.7929 - val_acc: 0.5556\n"
     ]
    },
    {
     "data": {
      "text/plain": [
       "<keras.callbacks.History at 0x2f2bf6a50>"
      ]
     },
     "execution_count": 58,
     "metadata": {},
     "output_type": "execute_result"
    }
   ],
   "source": [
    "model = Sequential()\n",
    "model.add(Embedding(output_dim=vocab_dim, input_dim=n_symbols, weights=[embedding_matrix]))  # note you have to put embedding weights in a list by convention\n",
    "model.add(LSTM(128, dropout=0.2, recurrent_dropout=0.2)) \n",
    "model.add(Dense(nb_classes))\n",
    "model.add(Activation('softmax'))\n",
    "model.compile(loss='binary_crossentropy', optimizer='adam', metrics=['accuracy'])\n",
    "\n",
    "model.fit(X_train_val, y_train_val, validation_data=(X_cv_val, y_cv_val), nb_epoch=nb_epoch, batch_size=batch_size)"
   ]
  },
  {
   "cell_type": "code",
   "execution_count": 59,
   "metadata": {
    "collapsed": false
   },
   "outputs": [
    {
     "name": "stdout",
     "output_type": "stream",
     "text": [
      "1483/1483 [==============================] - 9s     \n",
      "252/252 [==============================] - 1s     \n",
      "('Train accuracy:', 0.93189480802294211)\n",
      "('CV accuracy:', 0.55555555082502817)\n"
     ]
    }
   ],
   "source": [
    "score_train, acc_train = model.evaluate(X_train_val, y_train_val,\n",
    "                            batch_size=batch_size)\n",
    "\n",
    "score_cv, acc_cv = model.evaluate(X_cv_val, y_cv_val,\n",
    "                            batch_size=batch_size)\n",
    "\n",
    "print('Train accuracy:', acc_train)\n",
    "print('CV accuracy:', acc_cv)"
   ]
  },
  {
   "cell_type": "markdown",
   "metadata": {},
   "source": [
    "# Things to think about:\n",
    "\n",
    "1. Since the news is happening the same day of the stock there may be some lag - think about changing the date of prediction\n",
    "2. Could break up the titles to different rows, perform sentiment analysis and then use that as a feature to count how many positive title, negative titles and see if there is a correlation.\n",
    "5. Try CNNs\n",
    "6. Try hyperparameter tunnings with baysian optimization or perhaps grid search\n",
    "7. Try topic modelinging to get less noisy features."
   ]
  },
  {
   "cell_type": "code",
   "execution_count": null,
   "metadata": {
    "collapsed": true
   },
   "outputs": [],
   "source": []
  },
  {
   "cell_type": "code",
   "execution_count": null,
   "metadata": {
    "collapsed": true
   },
   "outputs": [],
   "source": []
  },
  {
   "cell_type": "code",
   "execution_count": null,
   "metadata": {
    "collapsed": true
   },
   "outputs": [],
   "source": []
  }
 ],
 "metadata": {
  "anaconda-cloud": {},
  "kernelspec": {
   "display_name": "Python [Root]",
   "language": "python",
   "name": "Python [Root]"
  },
  "language_info": {
   "codemirror_mode": {
    "name": "ipython",
    "version": 2
   },
   "file_extension": ".py",
   "mimetype": "text/x-python",
   "name": "python",
   "nbconvert_exporter": "python",
   "pygments_lexer": "ipython2",
   "version": "2.7.12"
  }
 },
 "nbformat": 4,
 "nbformat_minor": 0
}
